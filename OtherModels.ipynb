{
 "cells": [
  {
   "cell_type": "code",
   "execution_count": 1,
   "metadata": {},
   "outputs": [],
   "source": [
    "import pandas as pd\n",
    "import numpy as np\n",
    "import seaborn as sns\n",
    "from scipy import stats\n",
    "import matplotlib.pyplot as plt\n",
    "%matplotlib inline\n"
   ]
  },
  {
   "cell_type": "markdown",
   "metadata": {},
   "source": [
    "## بررسی دیتای موجود در فایل اکسل و آماده سازی برای مدلسازی"
   ]
  },
  {
   "cell_type": "code",
   "execution_count": 2,
   "metadata": {},
   "outputs": [
    {
     "data": {
      "text/html": [
       "<div>\n",
       "<style scoped>\n",
       "    .dataframe tbody tr th:only-of-type {\n",
       "        vertical-align: middle;\n",
       "    }\n",
       "\n",
       "    .dataframe tbody tr th {\n",
       "        vertical-align: top;\n",
       "    }\n",
       "\n",
       "    .dataframe thead th {\n",
       "        text-align: right;\n",
       "    }\n",
       "</style>\n",
       "<table border=\"1\" class=\"dataframe\">\n",
       "  <thead>\n",
       "    <tr style=\"text-align: right;\">\n",
       "      <th></th>\n",
       "      <th>Year</th>\n",
       "      <th>Month</th>\n",
       "      <th>Total Sales (lt.)</th>\n",
       "      <th>Avg. Price</th>\n",
       "      <th>Total Visitors</th>\n",
       "      <th>Year.Month</th>\n",
       "    </tr>\n",
       "  </thead>\n",
       "  <tbody>\n",
       "    <tr>\n",
       "      <th>0</th>\n",
       "      <td>1391</td>\n",
       "      <td>1</td>\n",
       "      <td>10531680</td>\n",
       "      <td>1338.424656</td>\n",
       "      <td>109167</td>\n",
       "      <td>1391-1</td>\n",
       "    </tr>\n",
       "    <tr>\n",
       "      <th>1</th>\n",
       "      <td>1391</td>\n",
       "      <td>2</td>\n",
       "      <td>11092325</td>\n",
       "      <td>1314.441618</td>\n",
       "      <td>122675</td>\n",
       "      <td>1391-2</td>\n",
       "    </tr>\n",
       "    <tr>\n",
       "      <th>2</th>\n",
       "      <td>1391</td>\n",
       "      <td>3</td>\n",
       "      <td>11529846</td>\n",
       "      <td>1267.542544</td>\n",
       "      <td>197621</td>\n",
       "      <td>1391-3</td>\n",
       "    </tr>\n",
       "    <tr>\n",
       "      <th>3</th>\n",
       "      <td>1391</td>\n",
       "      <td>4</td>\n",
       "      <td>12470776</td>\n",
       "      <td>1241.471640</td>\n",
       "      <td>621211</td>\n",
       "      <td>1391-4</td>\n",
       "    </tr>\n",
       "    <tr>\n",
       "      <th>4</th>\n",
       "      <td>1391</td>\n",
       "      <td>5</td>\n",
       "      <td>9386417</td>\n",
       "      <td>1183.481067</td>\n",
       "      <td>1025287</td>\n",
       "      <td>1391-5</td>\n",
       "    </tr>\n",
       "    <tr>\n",
       "      <th>5</th>\n",
       "      <td>1391</td>\n",
       "      <td>6</td>\n",
       "      <td>23008463</td>\n",
       "      <td>1184.665733</td>\n",
       "      <td>1162634</td>\n",
       "      <td>1391-6</td>\n",
       "    </tr>\n",
       "    <tr>\n",
       "      <th>6</th>\n",
       "      <td>1391</td>\n",
       "      <td>7</td>\n",
       "      <td>22429432</td>\n",
       "      <td>1473.179695</td>\n",
       "      <td>1204024</td>\n",
       "      <td>1391-7</td>\n",
       "    </tr>\n",
       "    <tr>\n",
       "      <th>7</th>\n",
       "      <td>1391</td>\n",
       "      <td>8</td>\n",
       "      <td>21829290</td>\n",
       "      <td>1448.554273</td>\n",
       "      <td>1296797</td>\n",
       "      <td>1391-8</td>\n",
       "    </tr>\n",
       "    <tr>\n",
       "      <th>8</th>\n",
       "      <td>1391</td>\n",
       "      <td>9</td>\n",
       "      <td>20312652</td>\n",
       "      <td>1407.730100</td>\n",
       "      <td>1242761</td>\n",
       "      <td>1391-9</td>\n",
       "    </tr>\n",
       "    <tr>\n",
       "      <th>9</th>\n",
       "      <td>1391</td>\n",
       "      <td>10</td>\n",
       "      <td>17036564</td>\n",
       "      <td>1343.253912</td>\n",
       "      <td>940092</td>\n",
       "      <td>1391-10</td>\n",
       "    </tr>\n",
       "    <tr>\n",
       "      <th>10</th>\n",
       "      <td>1391</td>\n",
       "      <td>11</td>\n",
       "      <td>13885878</td>\n",
       "      <td>1318.241542</td>\n",
       "      <td>261403</td>\n",
       "      <td>1391-11</td>\n",
       "    </tr>\n",
       "    <tr>\n",
       "      <th>11</th>\n",
       "      <td>1391</td>\n",
       "      <td>12</td>\n",
       "      <td>14502602</td>\n",
       "      <td>1185.469013</td>\n",
       "      <td>149618</td>\n",
       "      <td>1391-12</td>\n",
       "    </tr>\n",
       "  </tbody>\n",
       "</table>\n",
       "</div>"
      ],
      "text/plain": [
       "    Year  Month  Total Sales (lt.)   Avg. Price  Total Visitors Year.Month\n",
       "0   1391      1           10531680  1338.424656          109167     1391-1\n",
       "1   1391      2           11092325  1314.441618          122675     1391-2\n",
       "2   1391      3           11529846  1267.542544          197621     1391-3\n",
       "3   1391      4           12470776  1241.471640          621211     1391-4\n",
       "4   1391      5            9386417  1183.481067         1025287     1391-5\n",
       "5   1391      6           23008463  1184.665733         1162634     1391-6\n",
       "6   1391      7           22429432  1473.179695         1204024     1391-7\n",
       "7   1391      8           21829290  1448.554273         1296797     1391-8\n",
       "8   1391      9           20312652  1407.730100         1242761     1391-9\n",
       "9   1391     10           17036564  1343.253912          940092    1391-10\n",
       "10  1391     11           13885878  1318.241542          261403    1391-11\n",
       "11  1391     12           14502602  1185.469013          149618    1391-12"
      ]
     },
     "execution_count": 2,
     "metadata": {},
     "output_type": "execute_result"
    }
   ],
   "source": [
    "path='Case Study v2.xlsx'\n",
    "df = pd.read_excel(path , header = 1)\n",
    "df.head()\n",
    "df[\"Year.Month\"]=( df[\"Year\"].map(str) + \"-\" + df[\"Month\"].map(str))\n",
    "\n",
    "df.head(12)"
   ]
  },
  {
   "cell_type": "code",
   "execution_count": 3,
   "metadata": {},
   "outputs": [
    {
     "name": "stdout",
     "output_type": "stream",
     "text": [
      "Year                   int64\n",
      "Month                  int64\n",
      "Total Sales (lt.)      int64\n",
      "Avg. Price           float64\n",
      "Total Visitors         int64\n",
      "Year.Month            object\n",
      "dtype: object\n"
     ]
    }
   ],
   "source": [
    "print(df.dtypes)"
   ]
  },
  {
   "cell_type": "code",
   "execution_count": 4,
   "metadata": {},
   "outputs": [
    {
     "data": {
      "text/html": [
       "<div>\n",
       "<style scoped>\n",
       "    .dataframe tbody tr th:only-of-type {\n",
       "        vertical-align: middle;\n",
       "    }\n",
       "\n",
       "    .dataframe tbody tr th {\n",
       "        vertical-align: top;\n",
       "    }\n",
       "\n",
       "    .dataframe thead th {\n",
       "        text-align: right;\n",
       "    }\n",
       "</style>\n",
       "<table border=\"1\" class=\"dataframe\">\n",
       "  <thead>\n",
       "    <tr style=\"text-align: right;\">\n",
       "      <th></th>\n",
       "      <th>Year</th>\n",
       "      <th>Month</th>\n",
       "      <th>Total Sales (lt.)</th>\n",
       "      <th>Avg. Price</th>\n",
       "      <th>Total Visitors</th>\n",
       "    </tr>\n",
       "  </thead>\n",
       "  <tbody>\n",
       "    <tr>\n",
       "      <th>Year</th>\n",
       "      <td>1.000000</td>\n",
       "      <td>0.000000</td>\n",
       "      <td>0.587881</td>\n",
       "      <td>-0.173317</td>\n",
       "      <td>0.280877</td>\n",
       "    </tr>\n",
       "    <tr>\n",
       "      <th>Month</th>\n",
       "      <td>0.000000</td>\n",
       "      <td>1.000000</td>\n",
       "      <td>0.373823</td>\n",
       "      <td>-0.104277</td>\n",
       "      <td>0.212999</td>\n",
       "    </tr>\n",
       "    <tr>\n",
       "      <th>Total Sales (lt.)</th>\n",
       "      <td>0.587881</td>\n",
       "      <td>0.373823</td>\n",
       "      <td>1.000000</td>\n",
       "      <td>-0.090633</td>\n",
       "      <td>0.798103</td>\n",
       "    </tr>\n",
       "    <tr>\n",
       "      <th>Avg. Price</th>\n",
       "      <td>-0.173317</td>\n",
       "      <td>-0.104277</td>\n",
       "      <td>-0.090633</td>\n",
       "      <td>1.000000</td>\n",
       "      <td>0.117683</td>\n",
       "    </tr>\n",
       "    <tr>\n",
       "      <th>Total Visitors</th>\n",
       "      <td>0.280877</td>\n",
       "      <td>0.212999</td>\n",
       "      <td>0.798103</td>\n",
       "      <td>0.117683</td>\n",
       "      <td>1.000000</td>\n",
       "    </tr>\n",
       "  </tbody>\n",
       "</table>\n",
       "</div>"
      ],
      "text/plain": [
       "                       Year     Month  Total Sales (lt.)  Avg. Price  \\\n",
       "Year               1.000000  0.000000           0.587881   -0.173317   \n",
       "Month              0.000000  1.000000           0.373823   -0.104277   \n",
       "Total Sales (lt.)  0.587881  0.373823           1.000000   -0.090633   \n",
       "Avg. Price        -0.173317 -0.104277          -0.090633    1.000000   \n",
       "Total Visitors     0.280877  0.212999           0.798103    0.117683   \n",
       "\n",
       "                   Total Visitors  \n",
       "Year                     0.280877  \n",
       "Month                    0.212999  \n",
       "Total Sales (lt.)        0.798103  \n",
       "Avg. Price               0.117683  \n",
       "Total Visitors           1.000000  "
      ]
     },
     "execution_count": 4,
     "metadata": {},
     "output_type": "execute_result"
    }
   ],
   "source": [
    "df.corr()"
   ]
  },
  {
   "cell_type": "code",
   "execution_count": 5,
   "metadata": {},
   "outputs": [
    {
     "data": {
      "text/html": [
       "<div>\n",
       "<style scoped>\n",
       "    .dataframe tbody tr th:only-of-type {\n",
       "        vertical-align: middle;\n",
       "    }\n",
       "\n",
       "    .dataframe tbody tr th {\n",
       "        vertical-align: top;\n",
       "    }\n",
       "\n",
       "    .dataframe thead th {\n",
       "        text-align: right;\n",
       "    }\n",
       "</style>\n",
       "<table border=\"1\" class=\"dataframe\">\n",
       "  <thead>\n",
       "    <tr style=\"text-align: right;\">\n",
       "      <th></th>\n",
       "      <th>Total Sales (lt.)</th>\n",
       "      <th>Total Visitors</th>\n",
       "    </tr>\n",
       "  </thead>\n",
       "  <tbody>\n",
       "    <tr>\n",
       "      <th>Total Sales (lt.)</th>\n",
       "      <td>1.000000</td>\n",
       "      <td>0.798103</td>\n",
       "    </tr>\n",
       "    <tr>\n",
       "      <th>Total Visitors</th>\n",
       "      <td>0.798103</td>\n",
       "      <td>1.000000</td>\n",
       "    </tr>\n",
       "  </tbody>\n",
       "</table>\n",
       "</div>"
      ],
      "text/plain": [
       "                   Total Sales (lt.)  Total Visitors\n",
       "Total Sales (lt.)           1.000000        0.798103\n",
       "Total Visitors              0.798103        1.000000"
      ]
     },
     "execution_count": 5,
     "metadata": {},
     "output_type": "execute_result"
    }
   ],
   "source": [
    "df[[\"Year.Month\",\"Total Sales (lt.)\",\"Total Visitors\"]].corr()"
   ]
  },
  {
   "cell_type": "code",
   "execution_count": 6,
   "metadata": {},
   "outputs": [
    {
     "data": {
      "text/html": [
       "<div>\n",
       "<style scoped>\n",
       "    .dataframe tbody tr th:only-of-type {\n",
       "        vertical-align: middle;\n",
       "    }\n",
       "\n",
       "    .dataframe tbody tr th {\n",
       "        vertical-align: top;\n",
       "    }\n",
       "\n",
       "    .dataframe thead th {\n",
       "        text-align: right;\n",
       "    }\n",
       "</style>\n",
       "<table border=\"1\" class=\"dataframe\">\n",
       "  <thead>\n",
       "    <tr style=\"text-align: right;\">\n",
       "      <th></th>\n",
       "      <th>Year</th>\n",
       "      <th>Month</th>\n",
       "      <th>Total Sales (lt.)</th>\n",
       "      <th>Avg. Price</th>\n",
       "      <th>Total Visitors</th>\n",
       "    </tr>\n",
       "  </thead>\n",
       "  <tbody>\n",
       "    <tr>\n",
       "      <th>count</th>\n",
       "      <td>84.000000</td>\n",
       "      <td>84.000000</td>\n",
       "      <td>8.400000e+01</td>\n",
       "      <td>84.000000</td>\n",
       "      <td>8.400000e+01</td>\n",
       "    </tr>\n",
       "    <tr>\n",
       "      <th>mean</th>\n",
       "      <td>1394.000000</td>\n",
       "      <td>6.500000</td>\n",
       "      <td>2.368040e+07</td>\n",
       "      <td>1298.038488</td>\n",
       "      <td>1.107748e+06</td>\n",
       "    </tr>\n",
       "    <tr>\n",
       "      <th>std</th>\n",
       "      <td>2.012012</td>\n",
       "      <td>3.472786</td>\n",
       "      <td>1.081927e+07</td>\n",
       "      <td>88.321310</td>\n",
       "      <td>8.599298e+05</td>\n",
       "    </tr>\n",
       "    <tr>\n",
       "      <th>min</th>\n",
       "      <td>1391.000000</td>\n",
       "      <td>1.000000</td>\n",
       "      <td>9.386417e+06</td>\n",
       "      <td>1110.010066</td>\n",
       "      <td>1.091670e+05</td>\n",
       "    </tr>\n",
       "    <tr>\n",
       "      <th>25%</th>\n",
       "      <td>1392.000000</td>\n",
       "      <td>3.750000</td>\n",
       "      <td>1.470340e+07</td>\n",
       "      <td>1240.662541</td>\n",
       "      <td>2.928985e+05</td>\n",
       "    </tr>\n",
       "    <tr>\n",
       "      <th>50%</th>\n",
       "      <td>1394.000000</td>\n",
       "      <td>6.500000</td>\n",
       "      <td>2.150731e+07</td>\n",
       "      <td>1310.456038</td>\n",
       "      <td>9.989895e+05</td>\n",
       "    </tr>\n",
       "    <tr>\n",
       "      <th>75%</th>\n",
       "      <td>1396.000000</td>\n",
       "      <td>9.250000</td>\n",
       "      <td>3.065333e+07</td>\n",
       "      <td>1356.125555</td>\n",
       "      <td>1.768229e+06</td>\n",
       "    </tr>\n",
       "    <tr>\n",
       "      <th>max</th>\n",
       "      <td>1397.000000</td>\n",
       "      <td>12.000000</td>\n",
       "      <td>5.410795e+07</td>\n",
       "      <td>1480.456245</td>\n",
       "      <td>2.958938e+06</td>\n",
       "    </tr>\n",
       "  </tbody>\n",
       "</table>\n",
       "</div>"
      ],
      "text/plain": [
       "              Year      Month  Total Sales (lt.)   Avg. Price  Total Visitors\n",
       "count    84.000000  84.000000       8.400000e+01    84.000000    8.400000e+01\n",
       "mean   1394.000000   6.500000       2.368040e+07  1298.038488    1.107748e+06\n",
       "std       2.012012   3.472786       1.081927e+07    88.321310    8.599298e+05\n",
       "min    1391.000000   1.000000       9.386417e+06  1110.010066    1.091670e+05\n",
       "25%    1392.000000   3.750000       1.470340e+07  1240.662541    2.928985e+05\n",
       "50%    1394.000000   6.500000       2.150731e+07  1310.456038    9.989895e+05\n",
       "75%    1396.000000   9.250000       3.065333e+07  1356.125555    1.768229e+06\n",
       "max    1397.000000  12.000000       5.410795e+07  1480.456245    2.958938e+06"
      ]
     },
     "execution_count": 6,
     "metadata": {},
     "output_type": "execute_result"
    }
   ],
   "source": [
    "df.describe()"
   ]
  },
  {
   "cell_type": "code",
   "execution_count": 7,
   "metadata": {},
   "outputs": [],
   "source": [
    "df.rename(columns = {\"Total Sales (lt.)\":\"total-sales\" , \"Avg. Price\":\"price\", \"Total Visitors\":\"visitor-count\"}, inplace=True)"
   ]
  },
  {
   "cell_type": "code",
   "execution_count": 8,
   "metadata": {},
   "outputs": [
    {
     "data": {
      "text/plain": [
       "0    1391-1\n",
       "1    1391-2\n",
       "2    1391-3\n",
       "3    1391-4\n",
       "4    1391-5\n",
       "Name: YearMonth, dtype: object"
      ]
     },
     "execution_count": 8,
     "metadata": {},
     "output_type": "execute_result"
    }
   ],
   "source": [
    "df.rename(columns = {\"Year.Month\":\"YearMonth\"}, inplace=True)\n",
    "df.head()\n",
    "df[\"YearMonth\"].head()"
   ]
  },
  {
   "cell_type": "code",
   "execution_count": 9,
   "metadata": {},
   "outputs": [
    {
     "data": {
      "text/html": [
       "<div>\n",
       "<style scoped>\n",
       "    .dataframe tbody tr th:only-of-type {\n",
       "        vertical-align: middle;\n",
       "    }\n",
       "\n",
       "    .dataframe tbody tr th {\n",
       "        vertical-align: top;\n",
       "    }\n",
       "\n",
       "    .dataframe thead tr th {\n",
       "        text-align: left;\n",
       "    }\n",
       "\n",
       "    .dataframe thead tr:last-of-type th {\n",
       "        text-align: right;\n",
       "    }\n",
       "</style>\n",
       "<table border=\"1\" class=\"dataframe\">\n",
       "  <thead>\n",
       "    <tr>\n",
       "      <th></th>\n",
       "      <th colspan=\"7\" halign=\"left\">visitor-count</th>\n",
       "    </tr>\n",
       "    <tr>\n",
       "      <th>Year</th>\n",
       "      <th>1391</th>\n",
       "      <th>1392</th>\n",
       "      <th>1393</th>\n",
       "      <th>1394</th>\n",
       "      <th>1395</th>\n",
       "      <th>1396</th>\n",
       "      <th>1397</th>\n",
       "    </tr>\n",
       "    <tr>\n",
       "      <th>Month</th>\n",
       "      <th></th>\n",
       "      <th></th>\n",
       "      <th></th>\n",
       "      <th></th>\n",
       "      <th></th>\n",
       "      <th></th>\n",
       "      <th></th>\n",
       "    </tr>\n",
       "  </thead>\n",
       "  <tbody>\n",
       "    <tr>\n",
       "      <th>1</th>\n",
       "      <td>109167</td>\n",
       "      <td>193429</td>\n",
       "      <td>163762</td>\n",
       "      <td>191014</td>\n",
       "      <td>185250</td>\n",
       "      <td>237050</td>\n",
       "      <td>321649</td>\n",
       "    </tr>\n",
       "    <tr>\n",
       "      <th>2</th>\n",
       "      <td>122675</td>\n",
       "      <td>200530</td>\n",
       "      <td>177717</td>\n",
       "      <td>213713</td>\n",
       "      <td>130790</td>\n",
       "      <td>273661</td>\n",
       "      <td>338678</td>\n",
       "    </tr>\n",
       "    <tr>\n",
       "      <th>3</th>\n",
       "      <td>197621</td>\n",
       "      <td>342382</td>\n",
       "      <td>416671</td>\n",
       "      <td>394497</td>\n",
       "      <td>234879</td>\n",
       "      <td>351472</td>\n",
       "      <td>555738</td>\n",
       "    </tr>\n",
       "    <tr>\n",
       "      <th>4</th>\n",
       "      <td>621211</td>\n",
       "      <td>762860</td>\n",
       "      <td>850981</td>\n",
       "      <td>1229872</td>\n",
       "      <td>381755</td>\n",
       "      <td>1291423</td>\n",
       "      <td>1645636</td>\n",
       "    </tr>\n",
       "    <tr>\n",
       "      <th>5</th>\n",
       "      <td>1025287</td>\n",
       "      <td>1524465</td>\n",
       "      <td>1795721</td>\n",
       "      <td>1904656</td>\n",
       "      <td>842179</td>\n",
       "      <td>2836302</td>\n",
       "      <td>2632495</td>\n",
       "    </tr>\n",
       "    <tr>\n",
       "      <th>6</th>\n",
       "      <td>1162634</td>\n",
       "      <td>1590923</td>\n",
       "      <td>1651819</td>\n",
       "      <td>2094209</td>\n",
       "      <td>972692</td>\n",
       "      <td>2364090</td>\n",
       "      <td>2699313</td>\n",
       "    </tr>\n",
       "    <tr>\n",
       "      <th>7</th>\n",
       "      <td>1204024</td>\n",
       "      <td>1651515</td>\n",
       "      <td>1675665</td>\n",
       "      <td>2374920</td>\n",
       "      <td>1495475</td>\n",
       "      <td>2653089</td>\n",
       "      <td>2535211</td>\n",
       "    </tr>\n",
       "    <tr>\n",
       "      <th>8</th>\n",
       "      <td>1296797</td>\n",
       "      <td>1764298</td>\n",
       "      <td>1921727</td>\n",
       "      <td>2280414</td>\n",
       "      <td>1900188</td>\n",
       "      <td>2958938</td>\n",
       "      <td>2573362</td>\n",
       "    </tr>\n",
       "    <tr>\n",
       "      <th>9</th>\n",
       "      <td>1242761</td>\n",
       "      <td>1780022</td>\n",
       "      <td>1813285</td>\n",
       "      <td>1863004</td>\n",
       "      <td>1694792</td>\n",
       "      <td>2780427</td>\n",
       "      <td>2280596</td>\n",
       "    </tr>\n",
       "    <tr>\n",
       "      <th>10</th>\n",
       "      <td>940092</td>\n",
       "      <td>1321077</td>\n",
       "      <td>1329272</td>\n",
       "      <td>1231630</td>\n",
       "      <td>1091544</td>\n",
       "      <td>2125910</td>\n",
       "      <td>1745996</td>\n",
       "    </tr>\n",
       "    <tr>\n",
       "      <th>11</th>\n",
       "      <td>261403</td>\n",
       "      <td>384827</td>\n",
       "      <td>324385</td>\n",
       "      <td>292987</td>\n",
       "      <td>280403</td>\n",
       "      <td>406915</td>\n",
       "      <td>521983</td>\n",
       "    </tr>\n",
       "    <tr>\n",
       "      <th>12</th>\n",
       "      <td>149618</td>\n",
       "      <td>292633</td>\n",
       "      <td>219877</td>\n",
       "      <td>215233</td>\n",
       "      <td>272836</td>\n",
       "      <td>305663</td>\n",
       "      <td>363176</td>\n",
       "    </tr>\n",
       "  </tbody>\n",
       "</table>\n",
       "</div>"
      ],
      "text/plain": [
       "      visitor-count                                                      \n",
       "Year           1391     1392     1393     1394     1395     1396     1397\n",
       "Month                                                                    \n",
       "1            109167   193429   163762   191014   185250   237050   321649\n",
       "2            122675   200530   177717   213713   130790   273661   338678\n",
       "3            197621   342382   416671   394497   234879   351472   555738\n",
       "4            621211   762860   850981  1229872   381755  1291423  1645636\n",
       "5           1025287  1524465  1795721  1904656   842179  2836302  2632495\n",
       "6           1162634  1590923  1651819  2094209   972692  2364090  2699313\n",
       "7           1204024  1651515  1675665  2374920  1495475  2653089  2535211\n",
       "8           1296797  1764298  1921727  2280414  1900188  2958938  2573362\n",
       "9           1242761  1780022  1813285  1863004  1694792  2780427  2280596\n",
       "10           940092  1321077  1329272  1231630  1091544  2125910  1745996\n",
       "11           261403   384827   324385   292987   280403   406915   521983\n",
       "12           149618   292633   219877   215233   272836   305663   363176"
      ]
     },
     "execution_count": 9,
     "metadata": {},
     "output_type": "execute_result"
    }
   ],
   "source": [
    "df_grouped1 = df[[ \"visitor-count\" , \"Year\",\"Month\" ]].groupby([\"Year\" ,\"Month\"] , as_index = False).mean()\n",
    "grouped_pivot1 = df_grouped1.pivot(index='Month',columns='Year' )\n",
    "grouped_pivot1\n",
    "#grouped_test1 = df_grouped.groupby(['Year','Month'],as_index=False).mean()\n",
    "#grouped_test1\n",
    "#df_grouped"
   ]
  },
  {
   "cell_type": "code",
   "execution_count": 10,
   "metadata": {},
   "outputs": [
    {
     "data": {
      "text/html": [
       "<div>\n",
       "<style scoped>\n",
       "    .dataframe tbody tr th:only-of-type {\n",
       "        vertical-align: middle;\n",
       "    }\n",
       "\n",
       "    .dataframe tbody tr th {\n",
       "        vertical-align: top;\n",
       "    }\n",
       "\n",
       "    .dataframe thead tr th {\n",
       "        text-align: left;\n",
       "    }\n",
       "\n",
       "    .dataframe thead tr:last-of-type th {\n",
       "        text-align: right;\n",
       "    }\n",
       "</style>\n",
       "<table border=\"1\" class=\"dataframe\">\n",
       "  <thead>\n",
       "    <tr>\n",
       "      <th></th>\n",
       "      <th colspan=\"7\" halign=\"left\">total-sales</th>\n",
       "    </tr>\n",
       "    <tr>\n",
       "      <th>Year</th>\n",
       "      <th>1391</th>\n",
       "      <th>1392</th>\n",
       "      <th>1393</th>\n",
       "      <th>1394</th>\n",
       "      <th>1395</th>\n",
       "      <th>1396</th>\n",
       "      <th>1397</th>\n",
       "    </tr>\n",
       "    <tr>\n",
       "      <th>Month</th>\n",
       "      <th></th>\n",
       "      <th></th>\n",
       "      <th></th>\n",
       "      <th></th>\n",
       "      <th></th>\n",
       "      <th></th>\n",
       "      <th></th>\n",
       "    </tr>\n",
       "  </thead>\n",
       "  <tbody>\n",
       "    <tr>\n",
       "      <th>1</th>\n",
       "      <td>10531680</td>\n",
       "      <td>9897895</td>\n",
       "      <td>10377855</td>\n",
       "      <td>13132710</td>\n",
       "      <td>14254781</td>\n",
       "      <td>16856155</td>\n",
       "      <td>19116119</td>\n",
       "    </tr>\n",
       "    <tr>\n",
       "      <th>2</th>\n",
       "      <td>11092325</td>\n",
       "      <td>11996181</td>\n",
       "      <td>11715255</td>\n",
       "      <td>14382015</td>\n",
       "      <td>14770331</td>\n",
       "      <td>17719258</td>\n",
       "      <td>15680096</td>\n",
       "    </tr>\n",
       "    <tr>\n",
       "      <th>3</th>\n",
       "      <td>11529846</td>\n",
       "      <td>13605550</td>\n",
       "      <td>10757321</td>\n",
       "      <td>17299581</td>\n",
       "      <td>16811921</td>\n",
       "      <td>19452838</td>\n",
       "      <td>25001183</td>\n",
       "    </tr>\n",
       "    <tr>\n",
       "      <th>4</th>\n",
       "      <td>12470776</td>\n",
       "      <td>9860760</td>\n",
       "      <td>12225821</td>\n",
       "      <td>12996478</td>\n",
       "      <td>13032680</td>\n",
       "      <td>20029563</td>\n",
       "      <td>25172370</td>\n",
       "    </tr>\n",
       "    <tr>\n",
       "      <th>5</th>\n",
       "      <td>9386417</td>\n",
       "      <td>16071715</td>\n",
       "      <td>18396228</td>\n",
       "      <td>23794063</td>\n",
       "      <td>26072814</td>\n",
       "      <td>31638072</td>\n",
       "      <td>39389006</td>\n",
       "    </tr>\n",
       "    <tr>\n",
       "      <th>6</th>\n",
       "      <td>23008463</td>\n",
       "      <td>21933011</td>\n",
       "      <td>23343470</td>\n",
       "      <td>31988689</td>\n",
       "      <td>30959867</td>\n",
       "      <td>37749583</td>\n",
       "      <td>43453786</td>\n",
       "    </tr>\n",
       "    <tr>\n",
       "      <th>7</th>\n",
       "      <td>22429432</td>\n",
       "      <td>26965259</td>\n",
       "      <td>29734800</td>\n",
       "      <td>34631527</td>\n",
       "      <td>40622825</td>\n",
       "      <td>45354085</td>\n",
       "      <td>51078457</td>\n",
       "    </tr>\n",
       "    <tr>\n",
       "      <th>8</th>\n",
       "      <td>21829290</td>\n",
       "      <td>27946429</td>\n",
       "      <td>33568231</td>\n",
       "      <td>37664850</td>\n",
       "      <td>42071050</td>\n",
       "      <td>48637430</td>\n",
       "      <td>54107954</td>\n",
       "    </tr>\n",
       "    <tr>\n",
       "      <th>9</th>\n",
       "      <td>20312652</td>\n",
       "      <td>21013882</td>\n",
       "      <td>26112186</td>\n",
       "      <td>30551157</td>\n",
       "      <td>32058153</td>\n",
       "      <td>38680629</td>\n",
       "      <td>44334795</td>\n",
       "    </tr>\n",
       "    <tr>\n",
       "      <th>10</th>\n",
       "      <td>17036564</td>\n",
       "      <td>17137397</td>\n",
       "      <td>21299808</td>\n",
       "      <td>20840530</td>\n",
       "      <td>30193637</td>\n",
       "      <td>35847161</td>\n",
       "      <td>33455127</td>\n",
       "    </tr>\n",
       "    <tr>\n",
       "      <th>11</th>\n",
       "      <td>13885878</td>\n",
       "      <td>15680246</td>\n",
       "      <td>22678915</td>\n",
       "      <td>21690979</td>\n",
       "      <td>25091277</td>\n",
       "      <td>23881994</td>\n",
       "      <td>29767464</td>\n",
       "    </tr>\n",
       "    <tr>\n",
       "      <th>12</th>\n",
       "      <td>14502602</td>\n",
       "      <td>12380988</td>\n",
       "      <td>15280240</td>\n",
       "      <td>20565090</td>\n",
       "      <td>21323637</td>\n",
       "      <td>23798443</td>\n",
       "      <td>34156221</td>\n",
       "    </tr>\n",
       "  </tbody>\n",
       "</table>\n",
       "</div>"
      ],
      "text/plain": [
       "      total-sales                                                            \n",
       "Year         1391      1392      1393      1394      1395      1396      1397\n",
       "Month                                                                        \n",
       "1        10531680   9897895  10377855  13132710  14254781  16856155  19116119\n",
       "2        11092325  11996181  11715255  14382015  14770331  17719258  15680096\n",
       "3        11529846  13605550  10757321  17299581  16811921  19452838  25001183\n",
       "4        12470776   9860760  12225821  12996478  13032680  20029563  25172370\n",
       "5         9386417  16071715  18396228  23794063  26072814  31638072  39389006\n",
       "6        23008463  21933011  23343470  31988689  30959867  37749583  43453786\n",
       "7        22429432  26965259  29734800  34631527  40622825  45354085  51078457\n",
       "8        21829290  27946429  33568231  37664850  42071050  48637430  54107954\n",
       "9        20312652  21013882  26112186  30551157  32058153  38680629  44334795\n",
       "10       17036564  17137397  21299808  20840530  30193637  35847161  33455127\n",
       "11       13885878  15680246  22678915  21690979  25091277  23881994  29767464\n",
       "12       14502602  12380988  15280240  20565090  21323637  23798443  34156221"
      ]
     },
     "execution_count": 10,
     "metadata": {},
     "output_type": "execute_result"
    }
   ],
   "source": [
    "df_grouped2 = df[[ \"total-sales\" , \"Year\",\"Month\" ]].groupby([\"Year\" ,\"Month\"] , as_index = False).mean()\n",
    "grouped_pivot2 = df_grouped2.pivot(index='Month',columns='Year' )\n",
    "grouped_pivot2"
   ]
  },
  {
   "cell_type": "code",
   "execution_count": 11,
   "metadata": {},
   "outputs": [
    {
     "data": {
      "text/html": [
       "<div>\n",
       "<style scoped>\n",
       "    .dataframe tbody tr th:only-of-type {\n",
       "        vertical-align: middle;\n",
       "    }\n",
       "\n",
       "    .dataframe tbody tr th {\n",
       "        vertical-align: top;\n",
       "    }\n",
       "\n",
       "    .dataframe thead tr th {\n",
       "        text-align: left;\n",
       "    }\n",
       "\n",
       "    .dataframe thead tr:last-of-type th {\n",
       "        text-align: right;\n",
       "    }\n",
       "</style>\n",
       "<table border=\"1\" class=\"dataframe\">\n",
       "  <thead>\n",
       "    <tr>\n",
       "      <th></th>\n",
       "      <th colspan=\"7\" halign=\"left\">price</th>\n",
       "    </tr>\n",
       "    <tr>\n",
       "      <th>Year</th>\n",
       "      <th>1391</th>\n",
       "      <th>1392</th>\n",
       "      <th>1393</th>\n",
       "      <th>1394</th>\n",
       "      <th>1395</th>\n",
       "      <th>1396</th>\n",
       "      <th>1397</th>\n",
       "    </tr>\n",
       "    <tr>\n",
       "      <th>Month</th>\n",
       "      <th></th>\n",
       "      <th></th>\n",
       "      <th></th>\n",
       "      <th></th>\n",
       "      <th></th>\n",
       "      <th></th>\n",
       "      <th></th>\n",
       "    </tr>\n",
       "  </thead>\n",
       "  <tbody>\n",
       "    <tr>\n",
       "      <th>1</th>\n",
       "      <td>1338.424656</td>\n",
       "      <td>1333.127511</td>\n",
       "      <td>1336.600652</td>\n",
       "      <td>1302.081285</td>\n",
       "      <td>1386.637839</td>\n",
       "      <td>1235.803252</td>\n",
       "      <td>1296.698781</td>\n",
       "    </tr>\n",
       "    <tr>\n",
       "      <th>2</th>\n",
       "      <td>1314.441618</td>\n",
       "      <td>1285.561727</td>\n",
       "      <td>1275.382302</td>\n",
       "      <td>1247.204296</td>\n",
       "      <td>1315.595672</td>\n",
       "      <td>1176.955478</td>\n",
       "      <td>1246.825751</td>\n",
       "    </tr>\n",
       "    <tr>\n",
       "      <th>3</th>\n",
       "      <td>1267.542544</td>\n",
       "      <td>1437.263300</td>\n",
       "      <td>1238.235244</td>\n",
       "      <td>1185.555414</td>\n",
       "      <td>1260.149112</td>\n",
       "      <td>1121.978530</td>\n",
       "      <td>1206.820355</td>\n",
       "    </tr>\n",
       "    <tr>\n",
       "      <th>4</th>\n",
       "      <td>1241.471640</td>\n",
       "      <td>1375.421594</td>\n",
       "      <td>1165.946558</td>\n",
       "      <td>1369.615516</td>\n",
       "      <td>1480.456245</td>\n",
       "      <td>1436.173379</td>\n",
       "      <td>1356.613170</td>\n",
       "    </tr>\n",
       "    <tr>\n",
       "      <th>5</th>\n",
       "      <td>1183.481067</td>\n",
       "      <td>1328.909753</td>\n",
       "      <td>1344.622547</td>\n",
       "      <td>1355.963016</td>\n",
       "      <td>1433.161903</td>\n",
       "      <td>1423.363111</td>\n",
       "      <td>1295.714585</td>\n",
       "    </tr>\n",
       "    <tr>\n",
       "      <th>6</th>\n",
       "      <td>1184.665733</td>\n",
       "      <td>1317.056247</td>\n",
       "      <td>1316.966256</td>\n",
       "      <td>1337.241633</td>\n",
       "      <td>1391.419323</td>\n",
       "      <td>1416.281703</td>\n",
       "      <td>1272.804111</td>\n",
       "    </tr>\n",
       "    <tr>\n",
       "      <th>7</th>\n",
       "      <td>1473.179695</td>\n",
       "      <td>1296.315204</td>\n",
       "      <td>1367.613263</td>\n",
       "      <td>1349.386108</td>\n",
       "      <td>1373.563004</td>\n",
       "      <td>1398.106321</td>\n",
       "      <td>1213.349962</td>\n",
       "    </tr>\n",
       "    <tr>\n",
       "      <th>8</th>\n",
       "      <td>1448.554273</td>\n",
       "      <td>1265.932816</td>\n",
       "      <td>1321.365471</td>\n",
       "      <td>1316.474252</td>\n",
       "      <td>1320.733658</td>\n",
       "      <td>1346.923238</td>\n",
       "      <td>1181.450791</td>\n",
       "    </tr>\n",
       "    <tr>\n",
       "      <th>9</th>\n",
       "      <td>1407.730100</td>\n",
       "      <td>1408.927377</td>\n",
       "      <td>1251.293060</td>\n",
       "      <td>1211.107868</td>\n",
       "      <td>1244.800808</td>\n",
       "      <td>1254.118471</td>\n",
       "      <td>1118.798098</td>\n",
       "    </tr>\n",
       "    <tr>\n",
       "      <th>10</th>\n",
       "      <td>1343.253912</td>\n",
       "      <td>1334.211531</td>\n",
       "      <td>1178.242053</td>\n",
       "      <td>1383.190494</td>\n",
       "      <td>1167.730589</td>\n",
       "      <td>1165.537612</td>\n",
       "      <td>1306.470458</td>\n",
       "    </tr>\n",
       "    <tr>\n",
       "      <th>11</th>\n",
       "      <td>1318.241542</td>\n",
       "      <td>1267.057485</td>\n",
       "      <td>1129.666398</td>\n",
       "      <td>1317.324280</td>\n",
       "      <td>1110.010066</td>\n",
       "      <td>1385.963593</td>\n",
       "      <td>1227.885769</td>\n",
       "    </tr>\n",
       "    <tr>\n",
       "      <th>12</th>\n",
       "      <td>1185.469013</td>\n",
       "      <td>1416.266817</td>\n",
       "      <td>1286.562142</td>\n",
       "      <td>1295.465359</td>\n",
       "      <td>1275.981331</td>\n",
       "      <td>1349.526381</td>\n",
       "      <td>1185.217923</td>\n",
       "    </tr>\n",
       "  </tbody>\n",
       "</table>\n",
       "</div>"
      ],
      "text/plain": [
       "             price                                                      \\\n",
       "Year          1391         1392         1393         1394         1395   \n",
       "Month                                                                    \n",
       "1      1338.424656  1333.127511  1336.600652  1302.081285  1386.637839   \n",
       "2      1314.441618  1285.561727  1275.382302  1247.204296  1315.595672   \n",
       "3      1267.542544  1437.263300  1238.235244  1185.555414  1260.149112   \n",
       "4      1241.471640  1375.421594  1165.946558  1369.615516  1480.456245   \n",
       "5      1183.481067  1328.909753  1344.622547  1355.963016  1433.161903   \n",
       "6      1184.665733  1317.056247  1316.966256  1337.241633  1391.419323   \n",
       "7      1473.179695  1296.315204  1367.613263  1349.386108  1373.563004   \n",
       "8      1448.554273  1265.932816  1321.365471  1316.474252  1320.733658   \n",
       "9      1407.730100  1408.927377  1251.293060  1211.107868  1244.800808   \n",
       "10     1343.253912  1334.211531  1178.242053  1383.190494  1167.730589   \n",
       "11     1318.241542  1267.057485  1129.666398  1317.324280  1110.010066   \n",
       "12     1185.469013  1416.266817  1286.562142  1295.465359  1275.981331   \n",
       "\n",
       "                                 \n",
       "Year          1396         1397  \n",
       "Month                            \n",
       "1      1235.803252  1296.698781  \n",
       "2      1176.955478  1246.825751  \n",
       "3      1121.978530  1206.820355  \n",
       "4      1436.173379  1356.613170  \n",
       "5      1423.363111  1295.714585  \n",
       "6      1416.281703  1272.804111  \n",
       "7      1398.106321  1213.349962  \n",
       "8      1346.923238  1181.450791  \n",
       "9      1254.118471  1118.798098  \n",
       "10     1165.537612  1306.470458  \n",
       "11     1385.963593  1227.885769  \n",
       "12     1349.526381  1185.217923  "
      ]
     },
     "execution_count": 11,
     "metadata": {},
     "output_type": "execute_result"
    }
   ],
   "source": [
    "df_grouped3 = df[[ \"price\" , \"Year\",\"Month\" ]].groupby([\"Year\" ,\"Month\"] , as_index = False).mean()\n",
    "grouped_pivot3 = df_grouped3.pivot(index='Month',columns='Year' )\n",
    "grouped_pivot3"
   ]
  },
  {
   "cell_type": "code",
   "execution_count": 12,
   "metadata": {},
   "outputs": [
    {
     "data": {
      "text/html": [
       "<div>\n",
       "<style scoped>\n",
       "    .dataframe tbody tr th:only-of-type {\n",
       "        vertical-align: middle;\n",
       "    }\n",
       "\n",
       "    .dataframe tbody tr th {\n",
       "        vertical-align: top;\n",
       "    }\n",
       "\n",
       "    .dataframe thead tr th {\n",
       "        text-align: left;\n",
       "    }\n",
       "\n",
       "    .dataframe thead tr:last-of-type th {\n",
       "        text-align: right;\n",
       "    }\n",
       "</style>\n",
       "<table border=\"1\" class=\"dataframe\">\n",
       "  <thead>\n",
       "    <tr>\n",
       "      <th></th>\n",
       "      <th colspan=\"12\" halign=\"left\">visitor-count</th>\n",
       "    </tr>\n",
       "    <tr>\n",
       "      <th>Month</th>\n",
       "      <th>1</th>\n",
       "      <th>2</th>\n",
       "      <th>3</th>\n",
       "      <th>4</th>\n",
       "      <th>5</th>\n",
       "      <th>6</th>\n",
       "      <th>7</th>\n",
       "      <th>8</th>\n",
       "      <th>9</th>\n",
       "      <th>10</th>\n",
       "      <th>11</th>\n",
       "      <th>12</th>\n",
       "    </tr>\n",
       "    <tr>\n",
       "      <th>Year</th>\n",
       "      <th></th>\n",
       "      <th></th>\n",
       "      <th></th>\n",
       "      <th></th>\n",
       "      <th></th>\n",
       "      <th></th>\n",
       "      <th></th>\n",
       "      <th></th>\n",
       "      <th></th>\n",
       "      <th></th>\n",
       "      <th></th>\n",
       "      <th></th>\n",
       "    </tr>\n",
       "  </thead>\n",
       "  <tbody>\n",
       "    <tr>\n",
       "      <th>1391</th>\n",
       "      <td>109167</td>\n",
       "      <td>122675</td>\n",
       "      <td>197621</td>\n",
       "      <td>621211</td>\n",
       "      <td>1025287</td>\n",
       "      <td>1162634</td>\n",
       "      <td>1204024</td>\n",
       "      <td>1296797</td>\n",
       "      <td>1242761</td>\n",
       "      <td>940092</td>\n",
       "      <td>261403</td>\n",
       "      <td>149618</td>\n",
       "    </tr>\n",
       "    <tr>\n",
       "      <th>1392</th>\n",
       "      <td>193429</td>\n",
       "      <td>200530</td>\n",
       "      <td>342382</td>\n",
       "      <td>762860</td>\n",
       "      <td>1524465</td>\n",
       "      <td>1590923</td>\n",
       "      <td>1651515</td>\n",
       "      <td>1764298</td>\n",
       "      <td>1780022</td>\n",
       "      <td>1321077</td>\n",
       "      <td>384827</td>\n",
       "      <td>292633</td>\n",
       "    </tr>\n",
       "    <tr>\n",
       "      <th>1393</th>\n",
       "      <td>163762</td>\n",
       "      <td>177717</td>\n",
       "      <td>416671</td>\n",
       "      <td>850981</td>\n",
       "      <td>1795721</td>\n",
       "      <td>1651819</td>\n",
       "      <td>1675665</td>\n",
       "      <td>1921727</td>\n",
       "      <td>1813285</td>\n",
       "      <td>1329272</td>\n",
       "      <td>324385</td>\n",
       "      <td>219877</td>\n",
       "    </tr>\n",
       "    <tr>\n",
       "      <th>1394</th>\n",
       "      <td>191014</td>\n",
       "      <td>213713</td>\n",
       "      <td>394497</td>\n",
       "      <td>1229872</td>\n",
       "      <td>1904656</td>\n",
       "      <td>2094209</td>\n",
       "      <td>2374920</td>\n",
       "      <td>2280414</td>\n",
       "      <td>1863004</td>\n",
       "      <td>1231630</td>\n",
       "      <td>292987</td>\n",
       "      <td>215233</td>\n",
       "    </tr>\n",
       "    <tr>\n",
       "      <th>1395</th>\n",
       "      <td>185250</td>\n",
       "      <td>130790</td>\n",
       "      <td>234879</td>\n",
       "      <td>381755</td>\n",
       "      <td>842179</td>\n",
       "      <td>972692</td>\n",
       "      <td>1495475</td>\n",
       "      <td>1900188</td>\n",
       "      <td>1694792</td>\n",
       "      <td>1091544</td>\n",
       "      <td>280403</td>\n",
       "      <td>272836</td>\n",
       "    </tr>\n",
       "    <tr>\n",
       "      <th>1396</th>\n",
       "      <td>237050</td>\n",
       "      <td>273661</td>\n",
       "      <td>351472</td>\n",
       "      <td>1291423</td>\n",
       "      <td>2836302</td>\n",
       "      <td>2364090</td>\n",
       "      <td>2653089</td>\n",
       "      <td>2958938</td>\n",
       "      <td>2780427</td>\n",
       "      <td>2125910</td>\n",
       "      <td>406915</td>\n",
       "      <td>305663</td>\n",
       "    </tr>\n",
       "    <tr>\n",
       "      <th>1397</th>\n",
       "      <td>321649</td>\n",
       "      <td>338678</td>\n",
       "      <td>555738</td>\n",
       "      <td>1645636</td>\n",
       "      <td>2632495</td>\n",
       "      <td>2699313</td>\n",
       "      <td>2535211</td>\n",
       "      <td>2573362</td>\n",
       "      <td>2280596</td>\n",
       "      <td>1745996</td>\n",
       "      <td>521983</td>\n",
       "      <td>363176</td>\n",
       "    </tr>\n",
       "  </tbody>\n",
       "</table>\n",
       "</div>"
      ],
      "text/plain": [
       "      visitor-count                                                      \\\n",
       "Month            1       2       3        4        5        6        7    \n",
       "Year                                                                      \n",
       "1391         109167  122675  197621   621211  1025287  1162634  1204024   \n",
       "1392         193429  200530  342382   762860  1524465  1590923  1651515   \n",
       "1393         163762  177717  416671   850981  1795721  1651819  1675665   \n",
       "1394         191014  213713  394497  1229872  1904656  2094209  2374920   \n",
       "1395         185250  130790  234879   381755   842179   972692  1495475   \n",
       "1396         237050  273661  351472  1291423  2836302  2364090  2653089   \n",
       "1397         321649  338678  555738  1645636  2632495  2699313  2535211   \n",
       "\n",
       "                                                  \n",
       "Month       8        9        10      11      12  \n",
       "Year                                              \n",
       "1391   1296797  1242761   940092  261403  149618  \n",
       "1392   1764298  1780022  1321077  384827  292633  \n",
       "1393   1921727  1813285  1329272  324385  219877  \n",
       "1394   2280414  1863004  1231630  292987  215233  \n",
       "1395   1900188  1694792  1091544  280403  272836  \n",
       "1396   2958938  2780427  2125910  406915  305663  \n",
       "1397   2573362  2280596  1745996  521983  363176  "
      ]
     },
     "execution_count": 12,
     "metadata": {},
     "output_type": "execute_result"
    }
   ],
   "source": [
    "df_grouped4 = df[[ \"visitor-count\" , \"Year\",\"Month\" ]].groupby([\"Year\" ,\"Month\"] , as_index = False).mean()\n",
    "grouped_pivot4 = df_grouped4.pivot(index='Year',columns='Month' )\n",
    "grouped_pivot4"
   ]
  },
  {
   "cell_type": "code",
   "execution_count": 13,
   "metadata": {},
   "outputs": [
    {
     "data": {
      "text/html": [
       "<div>\n",
       "<style scoped>\n",
       "    .dataframe tbody tr th:only-of-type {\n",
       "        vertical-align: middle;\n",
       "    }\n",
       "\n",
       "    .dataframe tbody tr th {\n",
       "        vertical-align: top;\n",
       "    }\n",
       "\n",
       "    .dataframe thead tr th {\n",
       "        text-align: left;\n",
       "    }\n",
       "\n",
       "    .dataframe thead tr:last-of-type th {\n",
       "        text-align: right;\n",
       "    }\n",
       "</style>\n",
       "<table border=\"1\" class=\"dataframe\">\n",
       "  <thead>\n",
       "    <tr>\n",
       "      <th></th>\n",
       "      <th colspan=\"12\" halign=\"left\">total-sales</th>\n",
       "    </tr>\n",
       "    <tr>\n",
       "      <th>Month</th>\n",
       "      <th>1</th>\n",
       "      <th>2</th>\n",
       "      <th>3</th>\n",
       "      <th>4</th>\n",
       "      <th>5</th>\n",
       "      <th>6</th>\n",
       "      <th>7</th>\n",
       "      <th>8</th>\n",
       "      <th>9</th>\n",
       "      <th>10</th>\n",
       "      <th>11</th>\n",
       "      <th>12</th>\n",
       "    </tr>\n",
       "    <tr>\n",
       "      <th>Year</th>\n",
       "      <th></th>\n",
       "      <th></th>\n",
       "      <th></th>\n",
       "      <th></th>\n",
       "      <th></th>\n",
       "      <th></th>\n",
       "      <th></th>\n",
       "      <th></th>\n",
       "      <th></th>\n",
       "      <th></th>\n",
       "      <th></th>\n",
       "      <th></th>\n",
       "    </tr>\n",
       "  </thead>\n",
       "  <tbody>\n",
       "    <tr>\n",
       "      <th>1391</th>\n",
       "      <td>10531680</td>\n",
       "      <td>11092325</td>\n",
       "      <td>11529846</td>\n",
       "      <td>12470776</td>\n",
       "      <td>9386417</td>\n",
       "      <td>23008463</td>\n",
       "      <td>22429432</td>\n",
       "      <td>21829290</td>\n",
       "      <td>20312652</td>\n",
       "      <td>17036564</td>\n",
       "      <td>13885878</td>\n",
       "      <td>14502602</td>\n",
       "    </tr>\n",
       "    <tr>\n",
       "      <th>1392</th>\n",
       "      <td>9897895</td>\n",
       "      <td>11996181</td>\n",
       "      <td>13605550</td>\n",
       "      <td>9860760</td>\n",
       "      <td>16071715</td>\n",
       "      <td>21933011</td>\n",
       "      <td>26965259</td>\n",
       "      <td>27946429</td>\n",
       "      <td>21013882</td>\n",
       "      <td>17137397</td>\n",
       "      <td>15680246</td>\n",
       "      <td>12380988</td>\n",
       "    </tr>\n",
       "    <tr>\n",
       "      <th>1393</th>\n",
       "      <td>10377855</td>\n",
       "      <td>11715255</td>\n",
       "      <td>10757321</td>\n",
       "      <td>12225821</td>\n",
       "      <td>18396228</td>\n",
       "      <td>23343470</td>\n",
       "      <td>29734800</td>\n",
       "      <td>33568231</td>\n",
       "      <td>26112186</td>\n",
       "      <td>21299808</td>\n",
       "      <td>22678915</td>\n",
       "      <td>15280240</td>\n",
       "    </tr>\n",
       "    <tr>\n",
       "      <th>1394</th>\n",
       "      <td>13132710</td>\n",
       "      <td>14382015</td>\n",
       "      <td>17299581</td>\n",
       "      <td>12996478</td>\n",
       "      <td>23794063</td>\n",
       "      <td>31988689</td>\n",
       "      <td>34631527</td>\n",
       "      <td>37664850</td>\n",
       "      <td>30551157</td>\n",
       "      <td>20840530</td>\n",
       "      <td>21690979</td>\n",
       "      <td>20565090</td>\n",
       "    </tr>\n",
       "    <tr>\n",
       "      <th>1395</th>\n",
       "      <td>14254781</td>\n",
       "      <td>14770331</td>\n",
       "      <td>16811921</td>\n",
       "      <td>13032680</td>\n",
       "      <td>26072814</td>\n",
       "      <td>30959867</td>\n",
       "      <td>40622825</td>\n",
       "      <td>42071050</td>\n",
       "      <td>32058153</td>\n",
       "      <td>30193637</td>\n",
       "      <td>25091277</td>\n",
       "      <td>21323637</td>\n",
       "    </tr>\n",
       "    <tr>\n",
       "      <th>1396</th>\n",
       "      <td>16856155</td>\n",
       "      <td>17719258</td>\n",
       "      <td>19452838</td>\n",
       "      <td>20029563</td>\n",
       "      <td>31638072</td>\n",
       "      <td>37749583</td>\n",
       "      <td>45354085</td>\n",
       "      <td>48637430</td>\n",
       "      <td>38680629</td>\n",
       "      <td>35847161</td>\n",
       "      <td>23881994</td>\n",
       "      <td>23798443</td>\n",
       "    </tr>\n",
       "    <tr>\n",
       "      <th>1397</th>\n",
       "      <td>19116119</td>\n",
       "      <td>15680096</td>\n",
       "      <td>25001183</td>\n",
       "      <td>25172370</td>\n",
       "      <td>39389006</td>\n",
       "      <td>43453786</td>\n",
       "      <td>51078457</td>\n",
       "      <td>54107954</td>\n",
       "      <td>44334795</td>\n",
       "      <td>33455127</td>\n",
       "      <td>29767464</td>\n",
       "      <td>34156221</td>\n",
       "    </tr>\n",
       "  </tbody>\n",
       "</table>\n",
       "</div>"
      ],
      "text/plain": [
       "      total-sales                                                              \\\n",
       "Month          1         2         3         4         5         6         7    \n",
       "Year                                                                            \n",
       "1391     10531680  11092325  11529846  12470776   9386417  23008463  22429432   \n",
       "1392      9897895  11996181  13605550   9860760  16071715  21933011  26965259   \n",
       "1393     10377855  11715255  10757321  12225821  18396228  23343470  29734800   \n",
       "1394     13132710  14382015  17299581  12996478  23794063  31988689  34631527   \n",
       "1395     14254781  14770331  16811921  13032680  26072814  30959867  40622825   \n",
       "1396     16856155  17719258  19452838  20029563  31638072  37749583  45354085   \n",
       "1397     19116119  15680096  25001183  25172370  39389006  43453786  51078457   \n",
       "\n",
       "                                                         \n",
       "Month        8         9         10        11        12  \n",
       "Year                                                     \n",
       "1391   21829290  20312652  17036564  13885878  14502602  \n",
       "1392   27946429  21013882  17137397  15680246  12380988  \n",
       "1393   33568231  26112186  21299808  22678915  15280240  \n",
       "1394   37664850  30551157  20840530  21690979  20565090  \n",
       "1395   42071050  32058153  30193637  25091277  21323637  \n",
       "1396   48637430  38680629  35847161  23881994  23798443  \n",
       "1397   54107954  44334795  33455127  29767464  34156221  "
      ]
     },
     "execution_count": 13,
     "metadata": {},
     "output_type": "execute_result"
    }
   ],
   "source": [
    "df_grouped5 = df[[ \"total-sales\" , \"Year\",\"Month\" ]].groupby([\"Year\" ,\"Month\"] , as_index = False).mean()\n",
    "grouped_pivot5 = df_grouped5.pivot(index='Year',columns='Month' )\n",
    "grouped_pivot5"
   ]
  },
  {
   "cell_type": "code",
   "execution_count": 14,
   "metadata": {},
   "outputs": [
    {
     "data": {
      "text/html": [
       "<div>\n",
       "<style scoped>\n",
       "    .dataframe tbody tr th:only-of-type {\n",
       "        vertical-align: middle;\n",
       "    }\n",
       "\n",
       "    .dataframe tbody tr th {\n",
       "        vertical-align: top;\n",
       "    }\n",
       "\n",
       "    .dataframe thead tr th {\n",
       "        text-align: left;\n",
       "    }\n",
       "\n",
       "    .dataframe thead tr:last-of-type th {\n",
       "        text-align: right;\n",
       "    }\n",
       "</style>\n",
       "<table border=\"1\" class=\"dataframe\">\n",
       "  <thead>\n",
       "    <tr>\n",
       "      <th></th>\n",
       "      <th colspan=\"12\" halign=\"left\">price</th>\n",
       "    </tr>\n",
       "    <tr>\n",
       "      <th>Month</th>\n",
       "      <th>1</th>\n",
       "      <th>2</th>\n",
       "      <th>3</th>\n",
       "      <th>4</th>\n",
       "      <th>5</th>\n",
       "      <th>6</th>\n",
       "      <th>7</th>\n",
       "      <th>8</th>\n",
       "      <th>9</th>\n",
       "      <th>10</th>\n",
       "      <th>11</th>\n",
       "      <th>12</th>\n",
       "    </tr>\n",
       "    <tr>\n",
       "      <th>Year</th>\n",
       "      <th></th>\n",
       "      <th></th>\n",
       "      <th></th>\n",
       "      <th></th>\n",
       "      <th></th>\n",
       "      <th></th>\n",
       "      <th></th>\n",
       "      <th></th>\n",
       "      <th></th>\n",
       "      <th></th>\n",
       "      <th></th>\n",
       "      <th></th>\n",
       "    </tr>\n",
       "  </thead>\n",
       "  <tbody>\n",
       "    <tr>\n",
       "      <th>1391</th>\n",
       "      <td>1338.424656</td>\n",
       "      <td>1314.441618</td>\n",
       "      <td>1267.542544</td>\n",
       "      <td>1241.471640</td>\n",
       "      <td>1183.481067</td>\n",
       "      <td>1184.665733</td>\n",
       "      <td>1473.179695</td>\n",
       "      <td>1448.554273</td>\n",
       "      <td>1407.730100</td>\n",
       "      <td>1343.253912</td>\n",
       "      <td>1318.241542</td>\n",
       "      <td>1185.469013</td>\n",
       "    </tr>\n",
       "    <tr>\n",
       "      <th>1392</th>\n",
       "      <td>1333.127511</td>\n",
       "      <td>1285.561727</td>\n",
       "      <td>1437.263300</td>\n",
       "      <td>1375.421594</td>\n",
       "      <td>1328.909753</td>\n",
       "      <td>1317.056247</td>\n",
       "      <td>1296.315204</td>\n",
       "      <td>1265.932816</td>\n",
       "      <td>1408.927377</td>\n",
       "      <td>1334.211531</td>\n",
       "      <td>1267.057485</td>\n",
       "      <td>1416.266817</td>\n",
       "    </tr>\n",
       "    <tr>\n",
       "      <th>1393</th>\n",
       "      <td>1336.600652</td>\n",
       "      <td>1275.382302</td>\n",
       "      <td>1238.235244</td>\n",
       "      <td>1165.946558</td>\n",
       "      <td>1344.622547</td>\n",
       "      <td>1316.966256</td>\n",
       "      <td>1367.613263</td>\n",
       "      <td>1321.365471</td>\n",
       "      <td>1251.293060</td>\n",
       "      <td>1178.242053</td>\n",
       "      <td>1129.666398</td>\n",
       "      <td>1286.562142</td>\n",
       "    </tr>\n",
       "    <tr>\n",
       "      <th>1394</th>\n",
       "      <td>1302.081285</td>\n",
       "      <td>1247.204296</td>\n",
       "      <td>1185.555414</td>\n",
       "      <td>1369.615516</td>\n",
       "      <td>1355.963016</td>\n",
       "      <td>1337.241633</td>\n",
       "      <td>1349.386108</td>\n",
       "      <td>1316.474252</td>\n",
       "      <td>1211.107868</td>\n",
       "      <td>1383.190494</td>\n",
       "      <td>1317.324280</td>\n",
       "      <td>1295.465359</td>\n",
       "    </tr>\n",
       "    <tr>\n",
       "      <th>1395</th>\n",
       "      <td>1386.637839</td>\n",
       "      <td>1315.595672</td>\n",
       "      <td>1260.149112</td>\n",
       "      <td>1480.456245</td>\n",
       "      <td>1433.161903</td>\n",
       "      <td>1391.419323</td>\n",
       "      <td>1373.563004</td>\n",
       "      <td>1320.733658</td>\n",
       "      <td>1244.800808</td>\n",
       "      <td>1167.730589</td>\n",
       "      <td>1110.010066</td>\n",
       "      <td>1275.981331</td>\n",
       "    </tr>\n",
       "    <tr>\n",
       "      <th>1396</th>\n",
       "      <td>1235.803252</td>\n",
       "      <td>1176.955478</td>\n",
       "      <td>1121.978530</td>\n",
       "      <td>1436.173379</td>\n",
       "      <td>1423.363111</td>\n",
       "      <td>1416.281703</td>\n",
       "      <td>1398.106321</td>\n",
       "      <td>1346.923238</td>\n",
       "      <td>1254.118471</td>\n",
       "      <td>1165.537612</td>\n",
       "      <td>1385.963593</td>\n",
       "      <td>1349.526381</td>\n",
       "    </tr>\n",
       "    <tr>\n",
       "      <th>1397</th>\n",
       "      <td>1296.698781</td>\n",
       "      <td>1246.825751</td>\n",
       "      <td>1206.820355</td>\n",
       "      <td>1356.613170</td>\n",
       "      <td>1295.714585</td>\n",
       "      <td>1272.804111</td>\n",
       "      <td>1213.349962</td>\n",
       "      <td>1181.450791</td>\n",
       "      <td>1118.798098</td>\n",
       "      <td>1306.470458</td>\n",
       "      <td>1227.885769</td>\n",
       "      <td>1185.217923</td>\n",
       "    </tr>\n",
       "  </tbody>\n",
       "</table>\n",
       "</div>"
      ],
      "text/plain": [
       "             price                                                      \\\n",
       "Month           1            2            3            4            5    \n",
       "Year                                                                     \n",
       "1391   1338.424656  1314.441618  1267.542544  1241.471640  1183.481067   \n",
       "1392   1333.127511  1285.561727  1437.263300  1375.421594  1328.909753   \n",
       "1393   1336.600652  1275.382302  1238.235244  1165.946558  1344.622547   \n",
       "1394   1302.081285  1247.204296  1185.555414  1369.615516  1355.963016   \n",
       "1395   1386.637839  1315.595672  1260.149112  1480.456245  1433.161903   \n",
       "1396   1235.803252  1176.955478  1121.978530  1436.173379  1423.363111   \n",
       "1397   1296.698781  1246.825751  1206.820355  1356.613170  1295.714585   \n",
       "\n",
       "                                                                        \\\n",
       "Month           6            7            8            9            10   \n",
       "Year                                                                     \n",
       "1391   1184.665733  1473.179695  1448.554273  1407.730100  1343.253912   \n",
       "1392   1317.056247  1296.315204  1265.932816  1408.927377  1334.211531   \n",
       "1393   1316.966256  1367.613263  1321.365471  1251.293060  1178.242053   \n",
       "1394   1337.241633  1349.386108  1316.474252  1211.107868  1383.190494   \n",
       "1395   1391.419323  1373.563004  1320.733658  1244.800808  1167.730589   \n",
       "1396   1416.281703  1398.106321  1346.923238  1254.118471  1165.537612   \n",
       "1397   1272.804111  1213.349962  1181.450791  1118.798098  1306.470458   \n",
       "\n",
       "                                 \n",
       "Month           11           12  \n",
       "Year                             \n",
       "1391   1318.241542  1185.469013  \n",
       "1392   1267.057485  1416.266817  \n",
       "1393   1129.666398  1286.562142  \n",
       "1394   1317.324280  1295.465359  \n",
       "1395   1110.010066  1275.981331  \n",
       "1396   1385.963593  1349.526381  \n",
       "1397   1227.885769  1185.217923  "
      ]
     },
     "execution_count": 14,
     "metadata": {},
     "output_type": "execute_result"
    }
   ],
   "source": [
    "df_grouped6 = df[[ \"price\" , \"Year\",\"Month\" ]].groupby([\"Year\" ,\"Month\"] , as_index = False).mean()\n",
    "grouped_pivot6 = df_grouped6.pivot(index='Year',columns='Month' )\n",
    "grouped_pivot6"
   ]
  },
  {
   "cell_type": "code",
   "execution_count": 15,
   "metadata": {},
   "outputs": [
    {
     "data": {
      "image/png": "[encoded data removed]",
      "text/plain": [
       "<Figure size 432x288 with 2 Axes>"
      ]
     },
     "metadata": {
      "needs_background": "light"
     },
     "output_type": "display_data"
    }
   ],
   "source": [
    "fig, ax = plt.subplots()\n",
    "im = ax.pcolor(grouped_pivot1, cmap='RdBu' )\n",
    "ax.set_title(\"Vistors\")\n",
    "#label names\n",
    "row_labels = grouped_pivot1.columns.levels[1]\n",
    "col_labels = grouped_pivot1.index\n",
    "#a=set[\"Farvardin\" , \"Ordibehesht\" , \"Khordad\" , \"Tir\" , \"Mordad\",\"Shahriver\" , \"Mehr\" , \"Aban\" , \"Azar\" , \"Dey\",\"Bahman\",\"Esfand\"]\n",
    "#move ticks and labels to the center\n",
    "ax.set_xticks(np.arange(grouped_pivot1.shape[1]) + 1 , minor=False )\n",
    "ax.set_yticks(np.arange(grouped_pivot1.shape[0]) + 1, minor=False)\n",
    "\n",
    "#insert labels\n",
    "ax.set_xticklabels(row_labels, minor=False)\n",
    "ax.set_yticklabels(col_labels, minor=False)\n",
    "\n",
    "#rotate label if too long\n",
    "plt.xticks(rotation=45)\n",
    "\n",
    "\n",
    "fig.colorbar(im)\n",
    "plt.show()"
   ]
  },
  {
   "cell_type": "code",
   "execution_count": 16,
   "metadata": {},
   "outputs": [
    {
     "data": {
      "image/png": "[encoded data removed]",
      "text/plain": [
       "<Figure size 432x288 with 2 Axes>"
      ]
     },
     "metadata": {
      "needs_background": "light"
     },
     "output_type": "display_data"
    }
   ],
   "source": [
    "fig, ax = plt.subplots()\n",
    "im = ax.pcolor(grouped_pivot2, cmap='RdBu' )\n",
    "ax.set_title(\"SaleAmount\")\n",
    "#label names\n",
    "row_labels = grouped_pivot2.columns.levels[1]\n",
    "col_labels = grouped_pivot2.index\n",
    "#a=set[\"Farvardin\" , \"Ordibehesht\" , \"Khordad\" , \"Tir\" , \"Mordad\",\"Shahriver\" , \"Mehr\" , \"Aban\" , \"Azar\" , \"Dey\",\"Bahman\",\"Esfand\"]\n",
    "#move ticks and labels to the center\n",
    "ax.set_xticks(np.arange(grouped_pivot2.shape[1]) + 1 , minor=False )\n",
    "ax.set_yticks(np.arange(grouped_pivot2.shape[0]) + 1, minor=False)\n",
    "\n",
    "#insert labels\n",
    "ax.set_xticklabels(row_labels, minor=False)\n",
    "ax.set_yticklabels(col_labels, minor=False)\n",
    "\n",
    "#rotate label if too long\n",
    "plt.xticks(rotation=45)\n",
    "\n",
    "\n",
    "fig.colorbar(im)\n",
    "plt.show()"
   ]
  },
  {
   "cell_type": "code",
   "execution_count": 17,
   "metadata": {},
   "outputs": [
    {
     "data": {
      "image/png": "[encoded data removed]",
      "text/plain": [
       "<Figure size 432x288 with 2 Axes>"
      ]
     },
     "metadata": {
      "needs_background": "light"
     },
     "output_type": "display_data"
    }
   ],
   "source": [
    "fig, ax = plt.subplots()\n",
    "im = ax.pcolor(grouped_pivot3, cmap='RdBu' )\n",
    "ax.set_title(\"Price\")\n",
    "#label names\n",
    "row_labels = grouped_pivot3.columns.levels[1]\n",
    "col_labels = grouped_pivot3.index\n",
    "#a=set[\"Farvardin\" , \"Ordibehesht\" , \"Khordad\" , \"Tir\" , \"Mordad\",\"Shahriver\" , \"Mehr\" , \"Aban\" , \"Azar\" , \"Dey\",\"Bahman\",\"Esfand\"]\n",
    "#move ticks and labels to the center\n",
    "ax.set_xticks(np.arange(grouped_pivot3.shape[1]) + 1 , minor=False )\n",
    "ax.set_yticks(np.arange(grouped_pivot3.shape[0]) + 1, minor=False)\n",
    "\n",
    "#insert labels\n",
    "ax.set_xticklabels(row_labels, minor=False)\n",
    "ax.set_yticklabels(col_labels, minor=False)\n",
    "\n",
    "#rotate label if too long\n",
    "plt.xticks(rotation=45)\n",
    "\n",
    "\n",
    "fig.colorbar(im)\n",
    "plt.show()"
   ]
  },
  {
   "cell_type": "markdown",
   "metadata": {},
   "source": [
    "## در ادامه محاسبه\n",
    "## P_Value , Pearson Correlation"
   ]
  },
  {
   "cell_type": "markdown",
   "metadata": {},
   "source": [
    "## مفاهیم :\n",
    "همبستگی: اندازه گیری میزان وابستگی متقابل بین متغیرها.\n",
    "\n",
    "علیت: رابطه بین علت و اثر بین دو متغیر.  \n",
    "همبستگی پیرسون\n",
    "\n",
    "همبستگی پیرسون وابستگی خطی بین دو متغیر را اندازه گیری می کند.\n",
    "\n",
    "ضریب حاصل یک ارزش بین است -1 و 1 شامل:  \n",
    "  \n",
    "1: مجموع همبستگی خطی مثبت.  \n",
    "0: هیچ همبستگی خطی, دو متغیر به احتمال زیاد یکدیگر تاثیر نمی گذارد.  \n",
    "-1: مجموع همبستگی خطی منفی.  \n",
    "\n",
    "\n",
    " تخمین همبستگی.\n",
    "\n",
    "P_Value:\n",
    " به طور معمول سطح اهمیت 0.05 را انتخاب می کنیم که به این معنی است که ما 95 درصد اعتماد داریم که ارتباط بین متغیرها قابل توجه است.\n",
    "\n",
    "توسط کنوانسیون, وقتی که\n",
    "\n",
    "P_Value <0.001:  \n",
    "  شواهد قوی وجود دارد که همبستگی قابل توجه است.  \n",
    "P_Value < 0.05:  \n",
    " شواهد متوسط وجود دارد که همبستگی قابل توجه است.  \n",
    "P_Value  < 0.1:  \n",
    " شواهد ضعیفی وجود دارد که همبستگی قابل توجه است.  \n",
    "P_Value  > 0.1:  \n",
    " شواهدی وجود ندارد که همبستگی قابل توجه باشد.  "
   ]
  },
  {
   "cell_type": "code",
   "execution_count": 18,
   "metadata": {},
   "outputs": [
    {
     "name": "stdout",
     "output_type": "stream",
     "text": [
      "The Pearson Correlation Coefficient is -0.09063298205331155  with a P-value of P = 0.41226868526517135\n"
     ]
    }
   ],
   "source": [
    "pearson_coef, p_value = stats.pearsonr(df['total-sales'], df['price'])\n",
    "print(\"The Pearson Correlation Coefficient is\", pearson_coef, \" with a P-value of P =\", p_value)  "
   ]
  },
  {
   "cell_type": "code",
   "execution_count": 19,
   "metadata": {},
   "outputs": [
    {
     "name": "stdout",
     "output_type": "stream",
     "text": [
      "The Pearson Correlation Coefficient is 0.798102625630475  with a P-value of P = 9.91977424362288e-20\n"
     ]
    }
   ],
   "source": [
    "pearson_coef, p_value = stats.pearsonr(df['visitor-count'], df['total-sales'])\n",
    "print(\"The Pearson Correlation Coefficient is\", pearson_coef, \" with a P-value of P =\", p_value)  "
   ]
  },
  {
   "cell_type": "code",
   "execution_count": 20,
   "metadata": {},
   "outputs": [
    {
     "name": "stdout",
     "output_type": "stream",
     "text": [
      "The Pearson Correlation Coefficient is 0.11768256162127158  with a P-value of P = 0.2863662187089327\n"
     ]
    }
   ],
   "source": [
    "pearson_coef, p_value = stats.pearsonr(df['price'], df['visitor-count'])\n",
    "print(\"The Pearson Correlation Coefficient is\", pearson_coef, \" with a P-value of P =\", p_value)  "
   ]
  },
  {
   "cell_type": "code",
   "execution_count": 21,
   "metadata": {},
   "outputs": [],
   "source": [
    "#pearson_coef, p_value = stats.pearsonr(df['total-sales'], df[['Year','Month']].astype(float))\n",
    "#print(\"The Pearson Correlation Coefficient is\", pearson_coef, \" with a P-value of P =\", p_value)  "
   ]
  },
  {
   "cell_type": "code",
   "execution_count": 22,
   "metadata": {},
   "outputs": [],
   "source": [
    "#pearson_coef, p_value = stats.pearsonr(df['price'], df['YearMonth'].astype(float))\n",
    "#print(\"The Pearson Correlation Coefficient is\", pearson_coef, \" with a P-value of P =\", p_value)  "
   ]
  },
  {
   "cell_type": "code",
   "execution_count": 23,
   "metadata": {},
   "outputs": [
    {
     "name": "stdout",
     "output_type": "stream",
     "text": [
      "The Pearson Correlation Coefficient is -0.09063298205331155  with a P-value of P = 0.41226868526517135\n"
     ]
    }
   ],
   "source": [
    "pearson_coef, p_value = stats.pearsonr(df['price'], df['total-sales'].astype(float))\n",
    "print(\"The Pearson Correlation Coefficient is\", pearson_coef, \" with a P-value of P =\", p_value)  "
   ]
  },
  {
   "cell_type": "code",
   "execution_count": 24,
   "metadata": {},
   "outputs": [
    {
     "name": "stdout",
     "output_type": "stream",
     "text": [
      "The Pearson Correlation Coefficient is -0.17331661514798996  with a P-value of P = 0.11488096561314082\n"
     ]
    }
   ],
   "source": [
    "pearson_coef, p_value = stats.pearsonr(df['price'], df['Year'])\n",
    "print(\"The Pearson Correlation Coefficient is\", pearson_coef, \" with a P-value of P =\", p_value)  "
   ]
  },
  {
   "cell_type": "code",
   "execution_count": 25,
   "metadata": {},
   "outputs": [
    {
     "name": "stdout",
     "output_type": "stream",
     "text": [
      "The Pearson Correlation Coefficient is -0.10427684635687631  with a P-value of P = 0.34518522674237884\n"
     ]
    }
   ],
   "source": [
    "pearson_coef, p_value = stats.pearsonr(df['price'], df['Month'])\n",
    "print(\"The Pearson Correlation Coefficient is\", pearson_coef, \" with a P-value of P =\", p_value)  "
   ]
  },
  {
   "cell_type": "code",
   "execution_count": 26,
   "metadata": {},
   "outputs": [
    {
     "name": "stdout",
     "output_type": "stream",
     "text": [
      "The Pearson Correlation Coefficient is 0.28087665817517254  with a P-value of P = 0.009652727096116248\n"
     ]
    }
   ],
   "source": [
    "pearson_coef, p_value = stats.pearsonr(df['Year'], df['visitor-count'])\n",
    "print(\"The Pearson Correlation Coefficient is\", pearson_coef, \" with a P-value of P =\", p_value)  "
   ]
  },
  {
   "cell_type": "code",
   "execution_count": 27,
   "metadata": {},
   "outputs": [
    {
     "name": "stdout",
     "output_type": "stream",
     "text": [
      "The Pearson Correlation Coefficient is 0.21299865948545213  with a P-value of P = 0.051738949446937285\n"
     ]
    }
   ],
   "source": [
    "pearson_coef, p_value = stats.pearsonr(df['Month'], df['visitor-count'])\n",
    "print(\"The Pearson Correlation Coefficient is\", pearson_coef, \" with a P-value of P =\", p_value)  "
   ]
  },
  {
   "cell_type": "code",
   "execution_count": 28,
   "metadata": {},
   "outputs": [
    {
     "name": "stdout",
     "output_type": "stream",
     "text": [
      "The Pearson Correlation Coefficient is 0.5878807504352797  with a P-value of P = 4.1170787334693265e-09\n"
     ]
    }
   ],
   "source": [
    "pearson_coef, p_value = stats.pearsonr(df['Year'], df['total-sales'])\n",
    "print(\"The Pearson Correlation Coefficient is\", pearson_coef, \" with a P-value of P =\", p_value)  "
   ]
  },
  {
   "cell_type": "code",
   "execution_count": 29,
   "metadata": {},
   "outputs": [
    {
     "name": "stdout",
     "output_type": "stream",
     "text": [
      "The Pearson Correlation Coefficient is 0.3738233803389914  with a P-value of P = 0.0004605510073438188\n"
     ]
    }
   ],
   "source": [
    "pearson_coef, p_value = stats.pearsonr(df['Month'], df['total-sales'])\n",
    "print(\"The Pearson Correlation Coefficient is\", pearson_coef, \" with a P-value of P =\", p_value)  "
   ]
  },
  {
   "cell_type": "markdown",
   "metadata": {},
   "source": [
    "## آماده سازی مدل رگرسیون خطی"
   ]
  },
  {
   "cell_type": "code",
   "execution_count": 30,
   "metadata": {},
   "outputs": [],
   "source": [
    "from sklearn.linear_model import LinearRegression"
   ]
  },
  {
   "cell_type": "code",
   "execution_count": 31,
   "metadata": {},
   "outputs": [],
   "source": [
    "X = df[['Year' , 'Month']]\n",
    "Y = df['price']"
   ]
  },
  {
   "cell_type": "code",
   "execution_count": 32,
   "metadata": {},
   "outputs": [
    {
     "data": {
      "text/plain": [
       "LinearRegression(copy_X=True, fit_intercept=True, n_jobs=None,\n",
       "         normalize=False)"
      ]
     },
     "execution_count": 32,
     "metadata": {},
     "output_type": "execute_result"
    }
   ],
   "source": [
    "lm = LinearRegression()\n",
    "lm\n",
    "lm.fit(X,Y)"
   ]
  },
  {
   "cell_type": "code",
   "execution_count": 33,
   "metadata": {},
   "outputs": [
    {
     "data": {
      "text/plain": [
       "array([1335.44879312, 1332.79678164, 1330.14477017, 1327.4927587 ,\n",
       "       1324.84074722, 1322.18873575, 1319.53672428, 1316.88471281,\n",
       "       1314.23270133, 1311.58068986, 1308.92867839, 1306.27666691,\n",
       "       1327.84071244, 1325.18870097, 1322.5366895 , 1319.88467803,\n",
       "       1317.23266655, 1314.58065508, 1311.92864361, 1309.27663213,\n",
       "       1306.62462066, 1303.97260919, 1301.32059771, 1298.66858624,\n",
       "       1320.23263177, 1317.5806203 , 1314.92860883, 1312.27659735,\n",
       "       1309.62458588, 1306.97257441, 1304.32056293, 1301.66855146,\n",
       "       1299.01653999, 1296.36452851, 1293.71251704, 1291.06050557,\n",
       "       1312.6245511 , 1309.97253963, 1307.32052815, 1304.66851668,\n",
       "       1302.01650521, 1299.36449373, 1296.71248226, 1294.06047079,\n",
       "       1291.40845931, 1288.75644784, 1286.10443637, 1283.4524249 ,\n",
       "       1305.01647043, 1302.36445895, 1299.71244748, 1297.06043601,\n",
       "       1294.40842453, 1291.75641306, 1289.10440159, 1286.45239012,\n",
       "       1283.80037864, 1281.14836717, 1278.4963557 , 1275.84434422,\n",
       "       1297.40838975, 1294.75637828, 1292.10436681, 1289.45235534,\n",
       "       1286.80034386, 1284.14833239, 1281.49632092, 1278.84430944,\n",
       "       1276.19229797, 1273.5402865 , 1270.88827502, 1268.23626355,\n",
       "       1289.80030908, 1287.14829761, 1284.49628614, 1281.84427466,\n",
       "       1279.19226319, 1276.54025172, 1273.88824024, 1271.23622877,\n",
       "       1268.5842173 , 1265.93220582, 1263.28019435, 1260.62818288])"
      ]
     },
     "execution_count": 33,
     "metadata": {},
     "output_type": "execute_result"
    }
   ],
   "source": [
    "Yhat=lm.predict(X)\n",
    "Yhat[0::]   "
   ]
  },
  {
   "cell_type": "code",
   "execution_count": 34,
   "metadata": {},
   "outputs": [
    {
     "data": {
      "text/plain": [
       "11920.941020110527"
      ]
     },
     "execution_count": 34,
     "metadata": {},
     "output_type": "execute_result"
    }
   ],
   "source": [
    "lm.intercept_"
   ]
  },
  {
   "cell_type": "code",
   "execution_count": 35,
   "metadata": {},
   "outputs": [
    {
     "data": {
      "text/plain": [
       "array([-7.60808067, -2.65201147])"
      ]
     },
     "execution_count": 35,
     "metadata": {},
     "output_type": "execute_result"
    }
   ],
   "source": [
    "lm.coef_\n"
   ]
  },
  {
   "cell_type": "code",
   "execution_count": 36,
   "metadata": {},
   "outputs": [
    {
     "data": {
      "text/plain": [
       "(0, 1499.8453460252426)"
      ]
     },
     "execution_count": 36,
     "metadata": {},
     "output_type": "execute_result"
    },
    {
     "data": {
      "image/png": "[encoded data removed]",
      "text/plain": [
       "<Figure size 864x720 with 1 Axes>"
      ]
     },
     "metadata": {
      "needs_background": "light"
     },
     "output_type": "display_data"
    }
   ],
   "source": [
    "import warnings\n",
    "width = 12\n",
    "height = 10\n",
    "warnings.filterwarnings('ignore')\n",
    "plt.figure(figsize=(width, height))\n",
    "sns.regplot(x=\"Month\", y=\"price\", data=df)\n",
    "plt.ylim(0,)"
   ]
  },
  {
   "cell_type": "markdown",
   "metadata": {},
   "source": [
    "## آماده سازی مدل چند متغیره ( چند پارامتر)"
   ]
  },
  {
   "cell_type": "code",
   "execution_count": 37,
   "metadata": {},
   "outputs": [],
   "source": [
    "Z = df[[ 'Month' , 'visitor-count' , 'total-sales']]"
   ]
  },
  {
   "cell_type": "code",
   "execution_count": 38,
   "metadata": {},
   "outputs": [
    {
     "data": {
      "text/plain": [
       "LinearRegression(copy_X=True, fit_intercept=True, n_jobs=None,\n",
       "         normalize=False)"
      ]
     },
     "execution_count": 38,
     "metadata": {},
     "output_type": "execute_result"
    }
   ],
   "source": [
    "lm.fit(Z, df['price'])"
   ]
  },
  {
   "cell_type": "code",
   "execution_count": 39,
   "metadata": {},
   "outputs": [
    {
     "data": {
      "text/plain": [
       "1339.3183615352946"
      ]
     },
     "execution_count": 39,
     "metadata": {},
     "output_type": "execute_result"
    }
   ],
   "source": [
    "lm.intercept_"
   ]
  },
  {
   "cell_type": "code",
   "execution_count": 40,
   "metadata": {},
   "outputs": [
    {
     "data": {
      "text/plain": [
       "array([-7.78605018e-01,  5.30195727e-05, -4.00969835e-06])"
      ]
     },
     "execution_count": 40,
     "metadata": {},
     "output_type": "execute_result"
    }
   ],
   "source": [
    "lm.coef_"
   ]
  },
  {
   "cell_type": "code",
   "execution_count": 41,
   "metadata": {},
   "outputs": [
    {
     "data": {
      "image/png": "[encoded data removed]",
      "text/plain": [
       "<Figure size 1080x720 with 1 Axes>"
      ]
     },
     "metadata": {
      "needs_background": "light"
     },
     "output_type": "display_data"
    }
   ],
   "source": [
    "width = 15\n",
    "height = 10\n",
    "plt.figure(figsize=(width, height))\n",
    "sns.residplot(df[['Year','Month']], df[['visitor-count','total-sales']])\n",
    "plt.show()"
   ]
  },
  {
   "cell_type": "code",
   "execution_count": 42,
   "metadata": {},
   "outputs": [],
   "source": [
    "Y_hat = lm.predict(Z)\n"
   ]
  },
  {
   "cell_type": "code",
   "execution_count": 43,
   "metadata": {},
   "outputs": [
    {
     "data": {
      "image/png": "[encoded data removed]",
      "text/plain": [
       "<Figure size 1080x720 with 1 Axes>"
      ]
     },
     "metadata": {
      "needs_background": "light"
     },
     "output_type": "display_data"
    }
   ],
   "source": [
    "plt.figure(figsize=(width, height))\n",
    "\n",
    "ax2 = sns.distplot(Yhat, hist=False, color=\"r\", label=\"Actual Value\")\n",
    "sns.distplot(Y_hat, hist=False, color=\"b\", label=\"Fitted Values\" , ax=ax2)\n",
    "plt.title('Actual vs Fitted Values for Price')\n",
    "plt.xlabel('Price (in Toman)')\n",
    "plt.ylabel('YearMonthVisitor')\n",
    "plt.show()\n",
    "plt.close()"
   ]
  },
  {
   "cell_type": "code",
   "execution_count": 44,
   "metadata": {},
   "outputs": [
    {
     "data": {
      "image/png": "[encoded data removed]",
      "text/plain": [
       "<Figure size 432x288 with 1 Axes>"
      ]
     },
     "metadata": {
      "needs_background": "light"
     },
     "output_type": "display_data"
    }
   ],
   "source": [
    "\n",
    "    plt.plot(Yhat, Y_hat, '.')\n",
    "    plt.title('Polynomial Fit with Matplotlib for Price ~ Length')\n",
    "    ax = plt.gca()\n",
    "    ax.set_facecolor((0.898, 0.898, 0.898))\n",
    "    fig = plt.gcf()\n",
    "    plt.xlabel(\"Price\")\n",
    "    plt.ylabel('Price')\n",
    "\n",
    "    plt.show()\n",
    "    plt.close()\n"
   ]
  },
  {
   "cell_type": "markdown",
   "metadata": {},
   "source": [
    "## آماده سازی مدل چند جمله ای"
   ]
  },
  {
   "cell_type": "code",
   "execution_count": 45,
   "metadata": {},
   "outputs": [],
   "source": [
    "from sklearn.preprocessing import PolynomialFeatures"
   ]
  },
  {
   "cell_type": "code",
   "execution_count": 46,
   "metadata": {},
   "outputs": [],
   "source": [
    "pr=PolynomialFeatures(degree=2)\n",
    "pr\n",
    "Z = df[[ 'Year' , 'Month']]"
   ]
  },
  {
   "cell_type": "code",
   "execution_count": 47,
   "metadata": {},
   "outputs": [
    {
     "data": {
      "text/plain": [
       "(84, 6)"
      ]
     },
     "execution_count": 47,
     "metadata": {},
     "output_type": "execute_result"
    }
   ],
   "source": [
    "Z_pr=pr.fit_transform(Z)\n",
    "Z_pr.shape"
   ]
  },
  {
   "cell_type": "code",
   "execution_count": 48,
   "metadata": {},
   "outputs": [],
   "source": [
    "from sklearn.pipeline import Pipeline\n",
    "from sklearn.preprocessing import StandardScaler"
   ]
  },
  {
   "cell_type": "code",
   "execution_count": 49,
   "metadata": {},
   "outputs": [],
   "source": [
    "Input=[('scale',StandardScaler()), ('polynomial', PolynomialFeatures(include_bias=False)), ('model',LinearRegression())]"
   ]
  },
  {
   "cell_type": "code",
   "execution_count": 50,
   "metadata": {},
   "outputs": [
    {
     "data": {
      "text/plain": [
       "Pipeline(memory=None,\n",
       "     steps=[('scale', StandardScaler(copy=True, with_mean=True, with_std=True)), ('polynomial', PolynomialFeatures(degree=2, include_bias=False, interaction_only=False)), ('model', LinearRegression(copy_X=True, fit_intercept=True, n_jobs=None,\n",
       "         normalize=False))])"
      ]
     },
     "execution_count": 50,
     "metadata": {},
     "output_type": "execute_result"
    }
   ],
   "source": [
    "pipe=Pipeline(Input)\n",
    "pipe"
   ]
  },
  {
   "cell_type": "code",
   "execution_count": 51,
   "metadata": {},
   "outputs": [
    {
     "name": "stdout",
     "output_type": "stream",
     "text": [
      "The mean square error of price and predicted value is:  7392.445455462662\n"
     ]
    }
   ],
   "source": [
    "from sklearn.metrics import mean_squared_error\n",
    "mse = mean_squared_error(df['price'], Yhat)\n",
    "print('The mean square error of price and predicted value is: ', mse)"
   ]
  },
  {
   "cell_type": "markdown",
   "metadata": {},
   "source": [
    "## پیش بینی مقادیر فروش و تعداد توریست ومیانگین قیمت بر اساس رگرسیون خطی\n",
    "\n",
    "## LinearRegression"
   ]
  },
  {
   "cell_type": "code",
   "execution_count": 52,
   "metadata": {},
   "outputs": [
    {
     "name": "stdout",
     "output_type": "stream",
     "text": [
      "Regression Single Parameter for TotalSales_Value =>  \n",
      " [17274959.77289378 18439585.6994672  19604211.62604063 20768837.55261406\n",
      " 21933463.47918748 23098089.40576091 24262715.33233433 25427341.25890776\n",
      " 26591967.18548118 27756593.11205461 28921219.03862804 30085844.96520147] \n",
      "\n",
      "\n"
     ]
    },
    {
     "data": {
      "image/png": "[encoded data removed]",
      "text/plain": [
       "<Figure size 432x288 with 1 Axes>"
      ]
     },
     "metadata": {
      "needs_background": "light"
     },
     "output_type": "display_data"
    },
    {
     "name": "stdout",
     "output_type": "stream",
     "text": [
      "Regression Single Parameter for VisitorsCount_Value =>  \n",
      " [17274959.77289378 18439585.6994672  19604211.62604063 20768837.55261406\n",
      " 21933463.47918748 23098089.40576091 24262715.33233433 25427341.25890776\n",
      " 26591967.18548118 27756593.11205461 28921219.03862804 30085844.96520147] \n",
      "\n",
      "\n"
     ]
    },
    {
     "data": {
      "image/png": "[encoded data removed]",
      "text/plain": [
       "<Figure size 432x288 with 1 Axes>"
      ]
     },
     "metadata": {
      "needs_background": "light"
     },
     "output_type": "display_data"
    },
    {
     "name": "stdout",
     "output_type": "stream",
     "text": [
      "Regression Single Parameter for Price_Value =>  \n",
      " [1312.6245511  1309.97253963 1307.32052815 1304.66851668 1302.01650521\n",
      " 1299.36449373 1296.71248226 1294.06047079 1291.40845931 1288.75644784\n",
      " 1286.10443637 1283.4524249 ] \n",
      "\n",
      "\n"
     ]
    },
    {
     "data": {
      "image/png": "[encoded data removed]",
      "text/plain": [
       "<Figure size 432x288 with 1 Axes>"
      ]
     },
     "metadata": {
      "needs_background": "light"
     },
     "output_type": "display_data"
    }
   ],
   "source": [
    "X = df[['Month']]\n",
    "Y = df['total-sales']\n",
    "new_input=np.arange(1, 13, 1).reshape(-1,1)\n",
    "lm = LinearRegression()\n",
    "lm.fit(X, Y)\n",
    "lm\n",
    "yhat=lm.predict(new_input)\n",
    "\n",
    "print(\"Regression Single Parameter for TotalSales_Value => \" , \"\\n\", yhat[::], \"\\n\\n\")\n",
    "plt.plot(new_input, yhat)\n",
    "plt.show()\n",
    "\n",
    "\n",
    "\n",
    "\n",
    "X = df[['Month']]\n",
    "Y = df['total-sales']\n",
    "new_input=np.arange(1, 13, 1).reshape(-1,1)\n",
    "lm = LinearRegression()\n",
    "lm.fit(X, Y)\n",
    "lm\n",
    "yhat=lm.predict(new_input)\n",
    "\n",
    "print(\"Regression Single Parameter for VisitorsCount_Value => \" , \"\\n\", yhat[::], \"\\n\\n\")\n",
    "plt.plot(new_input, yhat)\n",
    "plt.show()\n",
    "\n",
    "\n",
    "\n",
    "\n",
    "\n",
    "\n",
    "\n",
    "X = df[['Month']]\n",
    "Y = df['price']\n",
    "new_input=np.arange(1, 13, 1).reshape(-1,1)\n",
    "lm = LinearRegression()\n",
    "lm.fit(X, Y)\n",
    "lm\n",
    "yhat=lm.predict(new_input)\n",
    "\n",
    "print(\"Regression Single Parameter for Price_Value => \" , \"\\n\", yhat[::], \"\\n\\n\")\n",
    "plt.plot(new_input, yhat)\n",
    "plt.show()"
   ]
  },
  {
   "cell_type": "markdown",
   "metadata": {},
   "source": [
    "## پیش بینی مقادیر فروش تعداد توریست و میانگین قیمت بر اساس توابع چند پارامتری متفاوت در پکیج های متفاوت \n",
    "## Z Multi"
   ]
  },
  {
   "cell_type": "code",
   "execution_count": 53,
   "metadata": {},
   "outputs": [
    {
     "name": "stdout",
     "output_type": "stream",
     "text": [
      "The R-square is:  0.4853476964204196\n",
      "Multi Parameters Z =>  Predicted TotalSales_Value =>  \n",
      " [ 7791258.00503731  8955883.93161011 10120509.85818386 11285135.78475761\n",
      " 12449761.71133041 13614387.63790417 14779013.56447792 15943639.49105072\n",
      " 17108265.41762447 18272891.34419823 19437517.27077103 20602143.19734478\n",
      " 10952491.92765617] \n",
      "\n",
      "\n",
      "The R-square is:  0.12426012605025759\n",
      "Multi Parameters Z =>  Predicted VisitorsCount_Value =>  \n",
      " [ 457525.26923078  510267.90859142  563010.54795206  615753.18731269\n",
      "  668495.82667333  721238.466034    773981.10539463  826723.74475527\n",
      "  879466.3841159   932209.02347654  984951.66283718 1037694.30219781\n",
      "  577571.36446887] \n",
      "\n",
      "\n",
      "The R-square is:  0.04091230977249216\n",
      "Multi Parameters Z =>  Predicted Price_Value =>  \n",
      " [1335.44879312 1332.79678164 1330.14477017 1327.4927587  1324.84074722\n",
      " 1322.18873575 1319.53672428 1316.88471281 1314.23270133 1311.58068986\n",
      " 1308.92867839 1306.27666691 1327.84071244] \n",
      "\n",
      "\n"
     ]
    }
   ],
   "source": [
    "# fit the model \n",
    "lm.fit(Z, df['total-sales'])\n",
    "# Find the R^2\n",
    "print('The R-square is: ', lm.score(Z, df['total-sales']))\n",
    "Y_predict_multifit = lm.predict(Z)\n",
    "print( \"Multi Parameters Z =>  Predicted TotalSales_Value => \", \"\\n\", Y_predict_multifit[0:13] , \"\\n\\n\")\n",
    "\n",
    "\n",
    "\n",
    "lm.fit(Z, df['visitor-count'])\n",
    "# Find the R^2\n",
    "print('The R-square is: ', lm.score(Z, df['visitor-count']))\n",
    "Y_predict_multifit = lm.predict(Z)\n",
    "print( \"Multi Parameters Z =>  Predicted VisitorsCount_Value => \", \"\\n\", Y_predict_multifit[0:13] , \"\\n\\n\")\n",
    "\n",
    "\n",
    "\n",
    "lm.fit(Z, df['price'])\n",
    "# Find the R^2\n",
    "print('The R-square is: ', lm.score(Z, df['price']))\n",
    "Y_predict_multifit = lm.predict(Z)\n",
    "print( \"Multi Parameters Z =>  Predicted Price_Value => \", \"\\n\", Y_predict_multifit[0:13] , \"\\n\\n\")"
   ]
  },
  {
   "cell_type": "markdown",
   "metadata": {},
   "source": [
    "## پیش بینی مقادیر فروش تعداد توریست و میانگین قیمت بر اساس مدل چند جمله ای \n",
    "## Polynomial"
   ]
  },
  {
   "cell_type": "code",
   "execution_count": 54,
   "metadata": {},
   "outputs": [
    {
     "name": "stdout",
     "output_type": "stream",
     "text": [
      "Polynomial =>  Predicted TotalSales_Value =>  \n",
      " [ 2560906.61564625  8387929.60451453 13173828.54236239 16918603.42918985\n",
      " 19622254.2649969  21284781.04978354 21906183.78354977 21486462.4662956\n",
      " 20025617.09802102 17523647.67872603 13980554.20841063  9396336.68707482\n",
      "  3400673.16692831] \n",
      "\n",
      "\n",
      "\n",
      "Polynomial =>  Predicted VisitorsCount_Value =>  \n",
      " [ 557284.89805433 1119303.69654155 1555645.68326911 1866310.858237\n",
      " 2051299.22144522 2110610.77289377 2044245.51258265 1852203.44051187\n",
      " 1534484.55668141 1091088.86109129  522016.3537415    21769.4065498\n",
      "  712749.47284065] \n",
      "\n",
      "\n",
      "Polynomial =>  Predicted Price_Value =>  \n",
      " [1277.34769035 1293.52676654 1306.54246489 1316.39478538 1323.08372802\n",
      " 1326.60929281 1326.97147975 1324.17028883 1318.20572007 1309.07777345\n",
      " 1296.78644898 1281.33174666 1287.7910213 ] \n",
      "\n",
      "\n"
     ]
    }
   ],
   "source": [
    "Y=df[\"total-sales\"]\n",
    "pipe.fit(Z,Y)\n",
    "ypipe=pipe.predict(Z)\n",
    "print( \"Polynomial =>  Predicted TotalSales_Value => \", \"\\n\", ypipe[0:13] , \"\\n\\n\")\n",
    "print()\n",
    "\n",
    "Y=df[\"visitor-count\"]\n",
    "pipe.fit(Z,Y)\n",
    "ypipe=pipe.predict(Z)\n",
    "print(\"Polynomial =>  Predicted VisitorsCount_Value => \", \"\\n\", ypipe[61:74] , \"\\n\\n\")\n",
    "\n",
    "\n",
    "Y=df[\"price\"]\n",
    "pipe.fit(Z,Y)\n",
    "ypipe=pipe.predict(Z)\n",
    "print(\"Polynomial =>  Predicted Price_Value => \", \"\\n\", ypipe[0:13] , \"\\n\\n\")\n"
   ]
  }
 ],
 "metadata": {
  "kernelspec": {
   "display_name": "Python 3",
   "language": "python",
   "name": "python3"
  },
  "language_info": {
   "codemirror_mode": {
    "name": "ipython",
    "version": 3
   },
   "file_extension": ".py",
   "mimetype": "text/x-python",
   "name": "python",
   "nbconvert_exporter": "python",
   "pygments_lexer": "ipython3",
   "version": "3.6.7"
  }
 },
 "nbformat": 4,
 "nbformat_minor": 4
}
